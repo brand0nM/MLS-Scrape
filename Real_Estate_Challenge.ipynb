{
 "cells": [
  {
   "cell_type": "markdown",
   "id": "dbe92026",
   "metadata": {},
   "source": [
    "# Real Estate Scrape"
   ]
  },
  {
   "cell_type": "code",
   "execution_count": 1,
   "id": "e986524b",
   "metadata": {},
   "outputs": [],
   "source": [
    "import re\n",
    "import time\n",
    "import requests\n",
    "import gmaps.datasets\n",
    "import pandas as pd\n",
    "import numpy as np\n",
    "from splinter import Browser\n",
    "from bs4 import BeautifulSoup as soup\n",
    "from webdriver_manager.chrome import ChromeDriverManager\n",
    "from config import username, password, api_key"
   ]
  },
  {
   "cell_type": "markdown",
   "id": "90c588a3",
   "metadata": {},
   "source": [
    "### Login Automation"
   ]
  },
  {
   "cell_type": "code",
   "execution_count": 2,
   "id": "a18444f5",
   "metadata": {},
   "outputs": [
    {
     "name": "stdout",
     "output_type": "stream",
     "text": [
      "\n"
     ]
    },
    {
     "name": "stderr",
     "output_type": "stream",
     "text": [
      "[WDM] - ====== WebDriver manager ======\n",
      "INFO:WDM:====== WebDriver manager ======\n",
      "[WDM] - Current google-chrome version is 102.0.5005\n",
      "INFO:WDM:Current google-chrome version is 102.0.5005\n",
      "[WDM] - Get LATEST chromedriver version for 102.0.5005 google-chrome\n",
      "INFO:WDM:Get LATEST chromedriver version for 102.0.5005 google-chrome\n",
      "[WDM] - Driver [/Users/brandonmontalvo/.wdm/drivers/chromedriver/mac64_m1/102.0.5005.61/chromedriver] found in cache\n",
      "INFO:WDM:Driver [/Users/brandonmontalvo/.wdm/drivers/chromedriver/mac64_m1/102.0.5005.61/chromedriver] found in cache\n"
     ]
    }
   ],
   "source": [
    "executable_path = {'executable_path': ChromeDriverManager().install()}\n",
    "browser = Browser('chrome', **executable_path, headless=False)\n",
    "\n",
    "rand_short = np.random.uniform(0.000, 3.000, size = 5) \n",
    "rand_long = np.random.uniform(0.000, 9.000, size = 4) \n",
    "\n",
    "url = 'https://www.recolorado.com/' # visit real estate website\n",
    "browser.visit(url)\n",
    "time.sleep(rand_short[0])\n",
    "\n",
    "browser.find_by_tag('a')[63].click() # login process, click \n",
    "time.sleep(rand_short[1])\n",
    "\n",
    "browser.fill('loginid', username) # username \n",
    "time.sleep(rand_short[2])\n",
    "\n",
    "browser.fill('password', password) # password \n",
    "time.sleep(rand_short[3])\n",
    "\n",
    "browser.find_by_value('login').click() # click button\n",
    "time.sleep(rand_long[0])\n",
    "browser.windows[1].close_others() # close other windows"
   ]
  },
  {
   "cell_type": "code",
   "execution_count": 3,
   "id": "e32d90c9",
   "metadata": {},
   "outputs": [
    {
     "name": "stdout",
     "output_type": "stream",
     "text": [
      "no message box\n"
     ]
    }
   ],
   "source": [
    "#try except block, make sure no message box\n",
    "time.sleep(rand_long[1] + rand_long[2])\n",
    "try:\n",
    "    browser.find_by_xpath('//*[@id=\"note14109\"]/div/div/div[1]/button').click()\n",
    "except:\n",
    "    print('no message box')\n",
    "mls_app = browser.find_by_xpath('//*[@id=\"appColumn99\"]') # table_app.is_empty()\n",
    "mls_app.click()\n",
    "time.sleep(rand_short[4])\n",
    "browser.windows[1].close_others() # close other windows"
   ]
  },
  {
   "cell_type": "markdown",
   "id": "b255323c",
   "metadata": {},
   "source": [
    "### Active Listings"
   ]
  },
  {
   "cell_type": "code",
   "execution_count": 4,
   "id": "c0dec361",
   "metadata": {},
   "outputs": [],
   "source": [
    "# navigate from homepage to active listings\n",
    "active_listings = browser.find_by_id('m_wm_w4_m_lv_ctrl0_m_lnkWatch')\n",
    "active_listings.click()"
   ]
  },
  {
   "cell_type": "code",
   "execution_count": 5,
   "id": "cdf3aa8d",
   "metadata": {},
   "outputs": [],
   "source": [
    "Active_df_table = {'listing_id':[], 'city':[], 'address':[], 'property_type':[], \n",
    "                'price':[], 'total_square_ft':[], 'above_square_ft':[], \n",
    "                'bed':[], 'bath':[], 'list_date':[], 'hoa':[]}\n",
    "\n",
    "time.sleep(3)\n",
    "Active_soup = soup(browser.html, 'html.parser')\n",
    "pages = Active_soup.find_all('span', class_='pagingLinks')[1].get_text()\n",
    "pages = re.search('...(.*)N',pages)\n",
    "pages = int(pages.group(1))\n",
    "\n",
    "page_count = 10"
   ]
  },
  {
   "cell_type": "code",
   "execution_count": 6,
   "id": "01eb9bf8",
   "metadata": {},
   "outputs": [],
   "source": [
    "for page in range(pages):\n",
    "    Active_soup = soup(browser.html, 'html.parser')\n",
    "    Active_table = Active_soup.find('table',\n",
    "                                    class_='displayGrid nonresponsive ajax_display d26m_show clickableDisplay')\n",
    "    Active_body = Active_table.tbody\n",
    "    \n",
    "    for row in Active_body: # gather data from each page\n",
    "        Active_df_table['listing_id'].append(row.find_all('td', class_='d26m10')[0].get_text())\n",
    "        Active_df_table['city'].append(row.find_all('td', class_='d26m12')[1].get_text())\n",
    "        Active_df_table['address'].append(row.find_all('td', class_='d26m14')[0].get_text())\n",
    "        Active_df_table['property_type'].append(row.find_all('td', class_='d26m12')[0].get_text())\n",
    "        Active_df_table['price'].append(row.find_all('td', class_='d26m15')[0].get_text())\n",
    "        Active_df_table['bed'].append(row.find_all('td', class_='d26m16')[0].get_text())\n",
    "        Active_df_table['bath'].append(row.find_all('td', class_='d26m16')[1].get_text())\n",
    "        Active_df_table['list_date'].append(row.find_all('td', class_='d26m5')[0].get_text())\n",
    "        \n",
    "        if row.td.span.a != 0 and page==0:\n",
    "            Active_df_table['total_square_ft'].append(row.find_all('td', class_='d26m7')[2].get_text())\n",
    "            Active_df_table['above_square_ft'].append(row.find_all('td', class_='d26m7')[1].get_text())\n",
    "            Active_df_table['hoa'].append(row.find_all('td', class_='d26m7')[4].get_text())\n",
    "            \n",
    "        elif row.td.span.a != 0 and page>=0:\n",
    "            Active_df_table['total_square_ft'].append(row.find_all('td', class_='d26m17')[1].get_text())\n",
    "            Active_df_table['above_square_ft'].append(row.find_all('td', class_='d26m17')[0].get_text())\n",
    "            Active_df_table['hoa'].append(row.find_all('td', class_='d26m17')[3].get_text())\n",
    "\n",
    "    if page <(pages-1):\n",
    "        browser.find_by_id(f'm_DisplayCore_dpy2').click()\n",
    "    time.sleep(2)\n",
    "\n",
    "browser.quit()       "
   ]
  },
  {
   "cell_type": "code",
   "execution_count": 7,
   "id": "eed02d47",
   "metadata": {
    "scrolled": true
   },
   "outputs": [
    {
     "data": {
      "text/html": [
       "<div>\n",
       "<style scoped>\n",
       "    .dataframe tbody tr th:only-of-type {\n",
       "        vertical-align: middle;\n",
       "    }\n",
       "\n",
       "    .dataframe tbody tr th {\n",
       "        vertical-align: top;\n",
       "    }\n",
       "\n",
       "    .dataframe thead th {\n",
       "        text-align: right;\n",
       "    }\n",
       "</style>\n",
       "<table border=\"1\" class=\"dataframe\">\n",
       "  <thead>\n",
       "    <tr style=\"text-align: right;\">\n",
       "      <th></th>\n",
       "      <th>listing_id</th>\n",
       "      <th>city</th>\n",
       "      <th>address</th>\n",
       "      <th>property_type</th>\n",
       "      <th>price</th>\n",
       "      <th>total_square_ft</th>\n",
       "      <th>above_square_ft</th>\n",
       "      <th>bed</th>\n",
       "      <th>bath</th>\n",
       "      <th>list_date</th>\n",
       "      <th>hoa</th>\n",
       "    </tr>\n",
       "  </thead>\n",
       "  <tbody>\n",
       "    <tr>\n",
       "      <th>0</th>\n",
       "      <td>1574687</td>\n",
       "      <td>Colorado Springs</td>\n",
       "      <td>527 W Pikes Peak Avenue</td>\n",
       "      <td>Residential Lease</td>\n",
       "      <td>$1,850</td>\n",
       "      <td>581</td>\n",
       "      <td>581</td>\n",
       "      <td>1</td>\n",
       "      <td>1</td>\n",
       "      <td>05/30/2022</td>\n",
       "      <td></td>\n",
       "    </tr>\n",
       "    <tr>\n",
       "      <th>1</th>\n",
       "      <td>4148195</td>\n",
       "      <td>Hartsel</td>\n",
       "      <td>0 Black Foot Trail</td>\n",
       "      <td>Land</td>\n",
       "      <td>$59,000</td>\n",
       "      <td></td>\n",
       "      <td></td>\n",
       "      <td></td>\n",
       "      <td></td>\n",
       "      <td>05/30/2022</td>\n",
       "      <td>No</td>\n",
       "    </tr>\n",
       "    <tr>\n",
       "      <th>2</th>\n",
       "      <td>6427512</td>\n",
       "      <td>Greeley</td>\n",
       "      <td>1310 28th Street Road</td>\n",
       "      <td>Residential</td>\n",
       "      <td>$375,000</td>\n",
       "      <td>1,890</td>\n",
       "      <td>1,890</td>\n",
       "      <td>4</td>\n",
       "      <td>2</td>\n",
       "      <td>05/30/2022</td>\n",
       "      <td>No</td>\n",
       "    </tr>\n",
       "    <tr>\n",
       "      <th>3</th>\n",
       "      <td>5653180</td>\n",
       "      <td>Denver</td>\n",
       "      <td>668 S Logan Street</td>\n",
       "      <td>Residential</td>\n",
       "      <td>$815,000</td>\n",
       "      <td>1,878</td>\n",
       "      <td>1,536</td>\n",
       "      <td>3</td>\n",
       "      <td>2</td>\n",
       "      <td>05/30/2022</td>\n",
       "      <td>No</td>\n",
       "    </tr>\n",
       "    <tr>\n",
       "      <th>4</th>\n",
       "      <td>7944120</td>\n",
       "      <td>Colorado Springs</td>\n",
       "      <td>2301 W Uintah Street</td>\n",
       "      <td>Residential Lease</td>\n",
       "      <td>$2,300</td>\n",
       "      <td>1,000</td>\n",
       "      <td>1,000</td>\n",
       "      <td>2</td>\n",
       "      <td>2</td>\n",
       "      <td>05/30/2022</td>\n",
       "      <td></td>\n",
       "    </tr>\n",
       "  </tbody>\n",
       "</table>\n",
       "</div>"
      ],
      "text/plain": [
       "  listing_id              city                  address      property_type  \\\n",
       "0    1574687  Colorado Springs  527 W Pikes Peak Avenue  Residential Lease   \n",
       "1    4148195           Hartsel       0 Black Foot Trail               Land   \n",
       "2    6427512           Greeley    1310 28th Street Road        Residential   \n",
       "3    5653180            Denver       668 S Logan Street        Residential   \n",
       "4    7944120  Colorado Springs     2301 W Uintah Street  Residential Lease   \n",
       "\n",
       "      price total_square_ft above_square_ft bed bath   list_date hoa  \n",
       "0    $1,850             581             581   1    1  05/30/2022      \n",
       "1   $59,000                                           05/30/2022  No  \n",
       "2  $375,000           1,890           1,890   4    2  05/30/2022  No  \n",
       "3  $815,000           1,878           1,536   3    2  05/30/2022  No  \n",
       "4    $2,300           1,000           1,000   2    2  05/30/2022      "
      ]
     },
     "execution_count": 7,
     "metadata": {},
     "output_type": "execute_result"
    }
   ],
   "source": [
    "Active_df = pd.DataFrame(Active_df_table)\n",
    "# Sometimes the data is returned uneven, this is to test and correct for it\n",
    "# print(len(Active_df_table['listing_id'])) # Active_df_table['listing_id'].pop(0)\n",
    "Active_df.head()"
   ]
  },
  {
   "cell_type": "markdown",
   "id": "9bab76df",
   "metadata": {},
   "source": [
    "### Google API, cross reference "
   ]
  },
  {
   "cell_type": "code",
   "execution_count": 8,
   "id": "8b57ccd0",
   "metadata": {},
   "outputs": [
    {
     "name": "stdout",
     "output_type": "stream",
     "text": [
      "86 address's unavailable\n"
     ]
    }
   ],
   "source": [
    "lat=[]\n",
    "lng=[]\n",
    "count=0\n",
    "\n",
    "for house in Active_df.index:\n",
    "    address = Active_df['address'][house].replace(' ','+')\n",
    "    city = '+' + Active_df['city'][house].replace(' ','+')\n",
    "    \n",
    "    try:\n",
    "        response = requests.get(\n",
    "            f'https://maps.googleapis.com/maps/api/geocode/json?address={address},{city},+CO&key={api_key}')\n",
    "        resp_json_payload = response.json()\n",
    "        lat.append(resp_json_payload['results'][0]['geometry']['location']['lat'])\n",
    "        lng.append(resp_json_payload['results'][0]['geometry']['location']['lng'])\n",
    "        \n",
    "    except:\n",
    "        lat.append(np.nan)\n",
    "        lng.append(np.nan)\n",
    "        count +=1\n",
    "\n",
    "print(f\"{count} address's unavailable\")"
   ]
  },
  {
   "cell_type": "code",
   "execution_count": 9,
   "id": "b073cc6e",
   "metadata": {},
   "outputs": [
    {
     "data": {
      "text/html": [
       "<div>\n",
       "<style scoped>\n",
       "    .dataframe tbody tr th:only-of-type {\n",
       "        vertical-align: middle;\n",
       "    }\n",
       "\n",
       "    .dataframe tbody tr th {\n",
       "        vertical-align: top;\n",
       "    }\n",
       "\n",
       "    .dataframe thead th {\n",
       "        text-align: right;\n",
       "    }\n",
       "</style>\n",
       "<table border=\"1\" class=\"dataframe\">\n",
       "  <thead>\n",
       "    <tr style=\"text-align: right;\">\n",
       "      <th></th>\n",
       "      <th>listing_id</th>\n",
       "      <th>lat</th>\n",
       "      <th>lng</th>\n",
       "      <th>city</th>\n",
       "      <th>address</th>\n",
       "      <th>property_type</th>\n",
       "      <th>price</th>\n",
       "      <th>total_square_ft</th>\n",
       "      <th>above_square_ft</th>\n",
       "      <th>bed</th>\n",
       "      <th>bath</th>\n",
       "      <th>list_date</th>\n",
       "      <th>hoa</th>\n",
       "    </tr>\n",
       "  </thead>\n",
       "  <tbody>\n",
       "    <tr>\n",
       "      <th>0</th>\n",
       "      <td>1574687</td>\n",
       "      <td>38.833904</td>\n",
       "      <td>-104.835714</td>\n",
       "      <td>Colorado Springs</td>\n",
       "      <td>527 W Pikes Peak Avenue</td>\n",
       "      <td>Residential Lease</td>\n",
       "      <td>$1,850</td>\n",
       "      <td>581</td>\n",
       "      <td>581</td>\n",
       "      <td>1</td>\n",
       "      <td>1</td>\n",
       "      <td>05/30/2022</td>\n",
       "      <td></td>\n",
       "    </tr>\n",
       "    <tr>\n",
       "      <th>1</th>\n",
       "      <td>4148195</td>\n",
       "      <td>39.011676</td>\n",
       "      <td>-105.847936</td>\n",
       "      <td>Hartsel</td>\n",
       "      <td>0 Black Foot Trail</td>\n",
       "      <td>Land</td>\n",
       "      <td>$59,000</td>\n",
       "      <td></td>\n",
       "      <td></td>\n",
       "      <td></td>\n",
       "      <td></td>\n",
       "      <td>05/30/2022</td>\n",
       "      <td>No</td>\n",
       "    </tr>\n",
       "    <tr>\n",
       "      <th>2</th>\n",
       "      <td>6427512</td>\n",
       "      <td>40.390902</td>\n",
       "      <td>-104.700670</td>\n",
       "      <td>Greeley</td>\n",
       "      <td>1310 28th Street Road</td>\n",
       "      <td>Residential</td>\n",
       "      <td>$375,000</td>\n",
       "      <td>1,890</td>\n",
       "      <td>1,890</td>\n",
       "      <td>4</td>\n",
       "      <td>2</td>\n",
       "      <td>05/30/2022</td>\n",
       "      <td>No</td>\n",
       "    </tr>\n",
       "    <tr>\n",
       "      <th>3</th>\n",
       "      <td>5653180</td>\n",
       "      <td>39.704429</td>\n",
       "      <td>-104.982491</td>\n",
       "      <td>Denver</td>\n",
       "      <td>668 S Logan Street</td>\n",
       "      <td>Residential</td>\n",
       "      <td>$815,000</td>\n",
       "      <td>1,878</td>\n",
       "      <td>1,536</td>\n",
       "      <td>3</td>\n",
       "      <td>2</td>\n",
       "      <td>05/30/2022</td>\n",
       "      <td>No</td>\n",
       "    </tr>\n",
       "    <tr>\n",
       "      <th>4</th>\n",
       "      <td>7944120</td>\n",
       "      <td>38.848673</td>\n",
       "      <td>-104.856549</td>\n",
       "      <td>Colorado Springs</td>\n",
       "      <td>2301 W Uintah Street</td>\n",
       "      <td>Residential Lease</td>\n",
       "      <td>$2,300</td>\n",
       "      <td>1,000</td>\n",
       "      <td>1,000</td>\n",
       "      <td>2</td>\n",
       "      <td>2</td>\n",
       "      <td>05/30/2022</td>\n",
       "      <td></td>\n",
       "    </tr>\n",
       "  </tbody>\n",
       "</table>\n",
       "</div>"
      ],
      "text/plain": [
       "  listing_id        lat         lng              city  \\\n",
       "0    1574687  38.833904 -104.835714  Colorado Springs   \n",
       "1    4148195  39.011676 -105.847936           Hartsel   \n",
       "2    6427512  40.390902 -104.700670           Greeley   \n",
       "3    5653180  39.704429 -104.982491            Denver   \n",
       "4    7944120  38.848673 -104.856549  Colorado Springs   \n",
       "\n",
       "                   address      property_type     price total_square_ft  \\\n",
       "0  527 W Pikes Peak Avenue  Residential Lease    $1,850             581   \n",
       "1       0 Black Foot Trail               Land   $59,000                   \n",
       "2    1310 28th Street Road        Residential  $375,000           1,890   \n",
       "3       668 S Logan Street        Residential  $815,000           1,878   \n",
       "4     2301 W Uintah Street  Residential Lease    $2,300           1,000   \n",
       "\n",
       "  above_square_ft bed bath   list_date hoa  \n",
       "0             581   1    1  05/30/2022      \n",
       "1                           05/30/2022  No  \n",
       "2           1,890   4    2  05/30/2022  No  \n",
       "3           1,536   3    2  05/30/2022  No  \n",
       "4           1,000   2    2  05/30/2022      "
      ]
     },
     "execution_count": 9,
     "metadata": {},
     "output_type": "execute_result"
    }
   ],
   "source": [
    "Active_df.insert(1, \"lng\", lng, True)\n",
    "Active_df.insert(1, \"lat\", lat, True)\n",
    "Active_df.to_csv('Resources/active_houses.csv', index_label=\"House number\")\n",
    "\n",
    "Active_df.head()"
   ]
  },
  {
   "cell_type": "markdown",
   "id": "9e45bae6",
   "metadata": {},
   "source": [
    "### Map Vizualization"
   ]
  },
  {
   "cell_type": "code",
   "execution_count": 10,
   "id": "2199a0e6",
   "metadata": {},
   "outputs": [],
   "source": [
    "gmaps.configure(api_key=api_key)"
   ]
  },
  {
   "cell_type": "code",
   "execution_count": 11,
   "id": "f1e78f50",
   "metadata": {},
   "outputs": [],
   "source": [
    "Active_df = Active_df.dropna()\n",
    "\n",
    "info_box_template = \"\"\"\n",
    "<dl>\n",
    "<dt>Listing ID</dt><dd>{listing_id}</dd>\n",
    "<dt>Address</dt><dd>{address}</dd>\n",
    "<dt>Price</dt><dd>{price}</dd>\n",
    "<dt>Total Square Feet</dt><dd>{total_square_ft}</dd>\n",
    "<dt>Bed & Bath</dt><dd>{bed}, {bath}</dd>\n",
    "<dt>City</dt><dd>{city}</dd>\n",
    "</dl>\n",
    "\"\"\"\n",
    "home_info = [info_box_template.format(**row) for index, row in Active_df.iterrows()]\n",
    "locations = Active_df[[\"lat\", \"lng\"]]"
   ]
  },
  {
   "cell_type": "code",
   "execution_count": 12,
   "id": "969a19ec",
   "metadata": {},
   "outputs": [
    {
     "data": {
      "application/vnd.jupyter.widget-view+json": {
       "model_id": "ddfbc9e3b7e34326909b03dce08d4a4e",
       "version_major": 2,
       "version_minor": 0
      },
      "text/plain": [
       "Figure(layout=FigureLayout(height='420px'))"
      ]
     },
     "metadata": {},
     "output_type": "display_data"
    }
   ],
   "source": [
    "fig = gmaps.figure()\n",
    "marker_layer = gmaps.marker_layer(locations, info_box_content=home_info)\n",
    "fig.add_layer(marker_layer)\n",
    "\n",
    "fig"
   ]
  }
 ],
 "metadata": {
  "kernelspec": {
   "display_name": "Python 3 (ipykernel)",
   "language": "python",
   "name": "python3"
  },
  "language_info": {
   "codemirror_mode": {
    "name": "ipython",
    "version": 3
   },
   "file_extension": ".py",
   "mimetype": "text/x-python",
   "name": "python",
   "nbconvert_exporter": "python",
   "pygments_lexer": "ipython3",
   "version": "3.9.13"
  }
 },
 "nbformat": 4,
 "nbformat_minor": 5
}
